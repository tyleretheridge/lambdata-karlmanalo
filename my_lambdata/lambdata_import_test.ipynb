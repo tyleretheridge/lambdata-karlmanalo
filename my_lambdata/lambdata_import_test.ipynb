{
 "cells": [
  {
   "cell_type": "code",
   "execution_count": 3,
   "metadata": {},
   "outputs": [
    {
     "name": "stdout",
     "output_type": "stream",
     "text": [
      "Looking in indexes: https://test.pypi.org/simple/\n",
      "Collecting lambdata-karlmanalo\n",
      "  Downloading https://test-files.pythonhosted.org/packages/7e/8c/92d1f90c1d03cfa3734ab832696bd9d6c027d7bdac4c6c84ff091c021e66/lambdata_karlmanalo-1.5.1-py3-none-any.whl (5.8 kB)\n",
      "Installing collected packages: lambdata-karlmanalo\n",
      "Successfully installed lambdata-karlmanalo-1.5.1\n"
     ]
    }
   ],
   "source": [
    "!pip install -i https://test.pypi.org/simple/ lambdata-karlmanalo"
   ]
  },
  {
   "cell_type": "code",
   "execution_count": 4,
   "metadata": {},
   "outputs": [],
   "source": [
    "from my_lambdata.datetime import split_date"
   ]
  },
  {
   "cell_type": "code",
   "execution_count": 5,
   "metadata": {},
   "outputs": [],
   "source": [
    "from my_lambdata.iqr import iqr"
   ]
  },
  {
   "cell_type": "code",
   "execution_count": 12,
   "metadata": {},
   "outputs": [
    {
     "name": "stdout",
     "output_type": "stream",
     "text": [
      "Help on function split_date in module my_lambdata.datetime:\n",
      "\n",
      "split_date(X)\n",
      "\n"
     ]
    }
   ],
   "source": [
    "help(split_date)"
   ]
  },
  {
   "cell_type": "code",
   "execution_count": 13,
   "metadata": {},
   "outputs": [
    {
     "name": "stdout",
     "output_type": "stream",
     "text": [
      "Help on function iqr in module my_lambdata.iqr:\n",
      "\n",
      "iqr(X)\n",
      "\n"
     ]
    }
   ],
   "source": [
    "help(iqr)"
   ]
  }
 ],
 "metadata": {
  "kernelspec": {
   "display_name": "Python 3",
   "language": "python",
   "name": "python3"
  },
  "language_info": {
   "codemirror_mode": {
    "name": "ipython",
    "version": 3
   },
   "file_extension": ".py",
   "mimetype": "text/x-python",
   "name": "python",
   "nbconvert_exporter": "python",
   "pygments_lexer": "ipython3",
   "version": "3.7.7"
  }
 },
 "nbformat": 4,
 "nbformat_minor": 4
}
